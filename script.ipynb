{
 "cells": [
  {
   "cell_type": "code",
   "id": "initial_id",
   "metadata": {
    "collapsed": true,
    "ExecuteTime": {
     "end_time": "2024-11-20T12:15:15.157016Z",
     "start_time": "2024-11-20T12:15:12.712840Z"
    }
   },
   "source": [
    "import torch\n",
    "import torch.nn as nn\n",
    "import torch.onnx\n",
    "import onnx\n",
    "import pydot\n",
    "from onnx.tools.net_drawer import GetPydotGraph\n",
    "\n",
    "\n",
    "# 定义一个简单的 PyTorch 模型\n",
    "class SimpleModel(nn.Module):\n",
    "    def __init__(self):\n",
    "        super(SimpleModel, self).__init__()\n",
    "        self.fc1 = nn.Linear(3, 5)\n",
    "        self.relu = nn.ReLU()\n",
    "        self.fc2 = nn.Linear(5, 2)\n",
    "\n",
    "    def forward(self, x):\n",
    "        x = self.fc1(x)\n",
    "        x = self.relu(x)\n",
    "        x = self.fc2(x)\n",
    "        return x\n",
    "\n",
    "\n",
    "# 初始化模型并设置为评估模式\n",
    "model = SimpleModel()\n",
    "model.eval()\n",
    "\n",
    "# 创建一个示例输入\n",
    "dummy_input = torch.randn(1, 3)  # 批大小为1，输入特征维度为3\n",
    "\n",
    "# 导出为 ONNX 格式\n",
    "onnx_file_path = \"simple_model.onnx\"\n",
    "torch.onnx.export(\n",
    "    model,\n",
    "    dummy_input,\n",
    "    onnx_file_path,\n",
    "    export_params=True,  # 保存权重\n",
    "    opset_version=11,   # 使用的 ONNX opset 版本\n",
    "    input_names=[\"input\"],  # 输入节点的名称\n",
    "    output_names=[\"output\"],  # 输出节点的名称\n",
    "    dynamic_axes={\"input\": {0: \"batch_size\"}, \"output\": {0: \"batch_size\"}},  # 支持动态批大小\n",
    ")\n",
    "\n",
    "print(f\"Model has been exported to {onnx_file_path}\")\n",
    "\n",
    "# 加载 ONNX 模型\n",
    "onnx_model = onnx.load(onnx_file_path)\n",
    "\n",
    "\n",
    "# 新增：将 ONNX 模型可视化为图像\n",
    "def visualize_onnx(onnx_model_path, output_image_path):\n",
    "    model = onnx.load(onnx_model_path)\n",
    "    # 生成网络图\n",
    "    pydot_graph = GetPydotGraph(\n",
    "        model.graph,  # 注意参数传递的是 `models.graph`\n",
    "        name=model.graph.name,\n",
    "        rankdir=\"TB\",  # 图形方向：\"TB\" 表示从上到下\n",
    "    )\n",
    "    # 保存为 PNG 图像\n",
    "    with open(output_image_path, \"wb\") as f:\n",
    "        f.write(pydot_graph.create_png())\n",
    "    print(f\"ONNX model visualization saved as image at {output_image_path}\")\n",
    "\n",
    "\n",
    "# 调用可视化函数\n",
    "visualize_onnx(onnx_file_path, \"simple_model_visualization.png\")"
   ],
   "outputs": [
    {
     "name": "stdout",
     "output_type": "stream",
     "text": [
      "Model has been exported to simple_model.onnx\n",
      "ONNX model visualization saved as image at simple_model_visualization.png\n"
     ]
    }
   ],
   "execution_count": 5
  },
  {
   "metadata": {},
   "cell_type": "code",
   "source": "",
   "id": "9a04f015b6b86066",
   "outputs": [],
   "execution_count": null
  },
  {
   "metadata": {
    "ExecuteTime": {
     "end_time": "2024-11-10T03:31:36.854143Z",
     "start_time": "2024-11-10T03:31:36.852143Z"
    }
   },
   "cell_type": "code",
   "source": "",
   "id": "e7a9e932e8f41014",
   "outputs": [],
   "execution_count": 13
  },
  {
   "metadata": {},
   "cell_type": "code",
   "source": "",
   "id": "6bfb29c0dacd4b3b",
   "outputs": [],
   "execution_count": null
  }
 ],
 "metadata": {
  "kernelspec": {
   "display_name": "Python 3",
   "language": "python",
   "name": "python3"
  },
  "language_info": {
   "codemirror_mode": {
    "name": "ipython",
    "version": 2
   },
   "file_extension": ".py",
   "mimetype": "text/x-python",
   "name": "python",
   "nbconvert_exporter": "python",
   "pygments_lexer": "ipython2",
   "version": "2.7.6"
  }
 },
 "nbformat": 4,
 "nbformat_minor": 5
}
