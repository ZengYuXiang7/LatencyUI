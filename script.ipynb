{
 "cells": [
  {
   "cell_type": "code",
   "id": "initial_id",
   "metadata": {
    "collapsed": true
   },
   "source": [
    "import torch\n",
    "\n",
    "# Define the MLP model class\n",
    "class MLP(torch.nn.Module):\n",
    "    def __init__(self, input_size, hidden_size, output_size):\n",
    "        super(MLP, self).__init__()\n",
    "        self.fc1 = torch.nn.Linear(input_size, hidden_size)\n",
    "        self.fc2 = torch.nn.Linear(hidden_size, output_size)\n",
    "        self.relu = torch.nn.ReLU()\n",
    "    \n",
    "    def forward(self, x):\n",
    "        hidden = self.relu(self.fc1(x))\n",
    "        out = self.fc2(hidden)\n",
    "        return out\n",
    "\n",
    "# Initialize the model\n",
    "input_size = 10  # example input size\n",
    "hidden_size = 5  # example hidden layer size\n",
    "output_size = 2  # example output size\n",
    "\n",
    "model = MLP(input_size, hidden_size, output_size)\n",
    "model.eval()  # Set the model to evaluation mode\n"
   ],
   "outputs": [],
   "execution_count": null
  },
  {
   "metadata": {},
   "cell_type": "code",
   "source": [
    "\n",
    "# Create a dummy input for the model (batch size of 1)\n",
    "dummy_input = torch.randn(1, input_size)\n",
    "\n",
    "# Export the model to an ONNX file\n",
    "onnx_file_path = \"mlp_model.onnx\"\n",
    "torch.onnx.export(model, dummy_input, onnx_file_path, \n",
    "                  input_names=['input'], output_names=['output'],\n",
    "                  dynamic_axes={'input': {0: 'batch_size'}, 'output': {0: 'batch_size'}})\n",
    "\n",
    "print(f\"Model exported to {onnx_file_path}\")"
   ],
   "id": "9a04f015b6b86066",
   "outputs": [],
   "execution_count": null
  },
  {
   "metadata": {
    "ExecuteTime": {
     "end_time": "2024-11-10T03:31:36.854143Z",
     "start_time": "2024-11-10T03:31:36.852143Z"
    }
   },
   "cell_type": "code",
   "source": "",
   "id": "e7a9e932e8f41014",
   "outputs": [],
   "execution_count": 13
  },
  {
   "metadata": {},
   "cell_type": "code",
   "source": "",
   "id": "6bfb29c0dacd4b3b",
   "outputs": [],
   "execution_count": null
  }
 ],
 "metadata": {
  "kernelspec": {
   "display_name": "Python 3",
   "language": "python",
   "name": "python3"
  },
  "language_info": {
   "codemirror_mode": {
    "name": "ipython",
    "version": 2
   },
   "file_extension": ".py",
   "mimetype": "text/x-python",
   "name": "python",
   "nbconvert_exporter": "python",
   "pygments_lexer": "ipython2",
   "version": "2.7.6"
  }
 },
 "nbformat": 4,
 "nbformat_minor": 5
}
